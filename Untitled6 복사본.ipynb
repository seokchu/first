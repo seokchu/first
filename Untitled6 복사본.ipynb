{
  "nbformat": 4,
  "nbformat_minor": 0,
  "metadata": {
    "colab": {
      "provenance": []
    },
    "kernelspec": {
      "name": "python3",
      "display_name": "Python 3"
    },
    "language_info": {
      "name": "python"
    }
  },
  "cells": [
    {
      "cell_type": "code",
      "execution_count": 9,
      "metadata": {
        "colab": {
          "base_uri": "https://localhost:8080/"
        },
        "id": "c_C0XZNyt7ws",
        "outputId": "5fabb1fe-6092-4e12-f039-f58a54a17279"
      },
      "outputs": [
        {
          "output_type": "execute_result",
          "data": {
            "text/plain": [
              "[1, 2, 3, 4, 5]"
            ]
          },
          "metadata": {},
          "execution_count": 9
        }
      ],
      "source": [
        "#1-1\n",
        "#피벗 = 주어진 배열(또는 각각의 부분배열)에서 위치에 따른 원소를 피벗으로 정함 / 퀵소트 워스트케이스 = 나눌때 한쪽이 계속 한개씩으로 나눠질때(이때 시간복잡도는 n square)\n",
        "def quick_sort(arr):\n",
        "    if len(arr) <= 1:\n",
        "        return arr\n",
        "    pivot = arr[len(arr) // 2] #pivot을 중앙값으로 지정\n",
        "    left = [x for x in arr if x < pivot]\n",
        "    middle = [x for x in arr if x == pivot]\n",
        "    right = [x for x in arr if x > pivot]\n",
        "    return quick_sort(left) + middle + quick_sort(right)\n",
        "\n",
        "quick_sort([2,4,5,1,3])\n",
        "\n"
      ]
    },
    {
      "cell_type": "code",
      "source": [
        "#1-2\n",
        "#merge == stack 구조// ~== DFS / #원소 개수 홀수개일때, .. 혹은 인덱스를 0이아닌 1부터 시작했을때 / 반반 취하는 거 == log2취하는거\n",
        "def merge_sort(arr):\n",
        "    if len(arr) <= 1:\n",
        "        return arr\n",
        "\n",
        "    mid = len(arr) // 2\n",
        "    left_half = merge_sort(arr[:mid])\n",
        "    right_half = merge_sort(arr[mid:])\n",
        "\n",
        "    return merge(left_half, right_half)\n",
        "\n",
        "def merge(left, right):\n",
        "    sorted_array = []\n",
        "    while left and right:\n",
        "        if left[0] < right[0]:\n",
        "            sorted_array.append(left.pop(0))\n",
        "        else:\n",
        "            sorted_array.append(right.pop(0))\n",
        "    sorted_array.extend(left)\n",
        "    sorted_array.extend(right)\n",
        "    return sorted_array\n"
      ],
      "metadata": {
        "id": "c_hhOA4HwpU5"
      },
      "execution_count": 10,
      "outputs": []
    },
    {
      "cell_type": "code",
      "source": [
        "#8\n",
        "#2차원 리스트 중앙값 : 1차원으로 바꾼다음 정렬 후 뽑으면\n",
        "#그레이: 같은 위상의 세 채널(RGB)의 평균값으로 모든 채널이 매핑\n",
        "#흑백: 0 아니면 255로만 표현하는 이미지\n",
        "#2차원 -> 1차원 플래팅해서 각 칸의 엔트리의 RGB를 조절(그레이) / 127(픽셀들의 중앙값) 기준 낮으면 0 높으면 255(흑백)"
      ],
      "metadata": {
        "id": "98Ow168nwpXi"
      },
      "execution_count": null,
      "outputs": []
    },
    {
      "cell_type": "code",
      "source": [
        "#2\n",
        "def sort_function1(arr, commands):\n",
        "  ans_list = []\n",
        "  for command in commands:\n",
        "    i,j,k = command[0],command[1],command[2]\n",
        "    temp_arr = arr[i-1:j]\n",
        "    sorted_temp_arr = quick_sort(temp_arr)\n",
        "    ans_list.append(sorted_temp_arr[k-1])\n",
        "\n",
        "  return ans_list\n",
        "\n",
        "sort_function1([1,5,2,6,3,7,4],[[2,5,3],[4,4,1],[1,7,3]])\n"
      ],
      "metadata": {
        "colab": {
          "base_uri": "https://localhost:8080/"
        },
        "id": "tZJXRaX_wpaR",
        "outputId": "0d66ce98-8b75-45d1-da49-1c92d986b4b8"
      },
      "execution_count": 11,
      "outputs": [
        {
          "output_type": "execute_result",
          "data": {
            "text/plain": [
              "[5, 6, 3]"
            ]
          },
          "metadata": {},
          "execution_count": 11
        }
      ]
    },
    {
      "cell_type": "code",
      "source": [
        "#3\n",
        "def max_number(numbers): #numbers = list\n",
        "  for end in range(1,len(numbers)):\n",
        "    for i in range(end,0,-1):\n",
        "      if numbers[0] > numbers[i]:\n",
        "        numbers[0],numbers[i] = numbers[i],numbers[0]\n",
        "\n",
        "  return numbers\n",
        "\n",
        "max_number([6,10,2])\n"
      ],
      "metadata": {
        "colab": {
          "base_uri": "https://localhost:8080/"
        },
        "id": "cahcCshBNVn3",
        "outputId": "aa02ce42-af0b-4639-f16a-984108c901ec"
      },
      "execution_count": 14,
      "outputs": [
        {
          "output_type": "execute_result",
          "data": {
            "text/plain": [
              "[2, 10, 6]"
            ]
          },
          "metadata": {},
          "execution_count": 14
        }
      ]
    },
    {
      "cell_type": "code",
      "source": [
        "#4"
      ],
      "metadata": {
        "colab": {
          "base_uri": "https://localhost:8080/"
        },
        "id": "a_nBGB0dwpcn",
        "outputId": "e1b90b04-f6e8-4c3c-eb9b-621d1cab6d8b"
      },
      "execution_count": 3,
      "outputs": [
        {
          "output_type": "execute_result",
          "data": {
            "text/plain": [
              "5"
            ]
          },
          "metadata": {},
          "execution_count": 3
        }
      ]
    },
    {
      "cell_type": "code",
      "source": [
        "#5\n",
        "N = int(input())\n",
        "words = []\n",
        "d = set()\n",
        "for _ in range(N):\n",
        "  words.append(input())\n",
        "\n",
        "for i in range(N):\n",
        "  word = words[i]\n",
        "  for l in range(i):\n",
        "    if word == words[l][:len(word)]:\n",
        "      d.add(word)\n",
        "  for r in range(i+1,N):\n",
        "    if word == words[r][:len(word)]: #문자열 슬라이싱할때 [:len(word)] 하면 word 문자길이만큼 비교할수 있음 굳이 +1 안해도됨\n",
        "      d.add(word)\n",
        "\n",
        "print(N - len(d))\n",
        ""
      ],
      "metadata": {
        "colab": {
          "base_uri": "https://localhost:8080/"
        },
        "id": "QhSb69qewpfF",
        "outputId": "00d4e2d4-92a4-4680-9035-30e7bd1cf756"
      },
      "execution_count": 33,
      "outputs": [
        {
          "output_type": "stream",
          "name": "stdout",
          "text": [
            "6\n",
            "hello\n",
            "hi\n",
            "h\n",
            "run\n",
            "rerun\n",
            "running\n",
            "4\n"
          ]
        }
      ]
    },
    {
      "cell_type": "code",
      "source": [
        "#6"
      ],
      "metadata": {
        "id": "tkyC6o7sQIRs"
      },
      "execution_count": null,
      "outputs": []
    },
    {
      "cell_type": "code",
      "source": [
        "#7"
      ],
      "metadata": {
        "id": "oyGON3F9QIUV"
      },
      "execution_count": null,
      "outputs": []
    },
    {
      "cell_type": "code",
      "source": [
        "#8"
      ],
      "metadata": {
        "id": "jFH2O_M4QKok"
      },
      "execution_count": null,
      "outputs": []
    }
  ]
}